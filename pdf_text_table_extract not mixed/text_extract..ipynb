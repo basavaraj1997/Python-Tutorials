{
 "cells": [
  {
   "cell_type": "code",
   "execution_count": 9,
   "metadata": {},
   "outputs": [],
   "source": [
    "import json\n",
    "import pdfplumber\n",
    "import pandas as pd\n"
   ]
  },
  {
   "cell_type": "code",
   "execution_count": 10,
   "metadata": {},
   "outputs": [],
   "source": [
    "def is_text_inside_table(normal_text_coords, table_text_coords):\n",
    "    # Define the bounding box for the normal text\n",
    "    normal_text_bbox = (normal_text_coords['x0'], normal_text_coords['top'],\n",
    "                        normal_text_coords['x1'], normal_text_coords['bottom'])\n",
    "\n",
    "    # Define the bounding box for the table text\n",
    "    table_text_bbox = (table_text_coords[0], table_text_coords[1],\n",
    "                       table_text_coords[2], table_text_coords[3])\n",
    "\n",
    "    is_inside = ( normal_text_bbox[2] > table_text_bbox[0] or\n",
    "                    normal_text_bbox[0] < table_text_bbox[2] or\n",
    "                    normal_text_bbox[3] > table_text_bbox[1] or\n",
    "                    normal_text_bbox[1] < table_text_bbox[3]          \n",
    "                    )\n",
    "    text_bbox_position_of_table = {'top': normal_text_bbox[3] < table_text_bbox[1],\n",
    "                                   'bottom': normal_text_bbox[1] > table_text_bbox[3],\n",
    "                                   'left': normal_text_bbox[2] < table_text_bbox[0],\n",
    "                                   'right': normal_text_bbox[0] > table_text_bbox[2]}\n",
    " \n",
    "    return normal_text_bbox[1] < table_text_bbox[3] and normal_text_bbox[1] > table_text_bbox[1]"
   ]
  },
  {
   "cell_type": "code",
   "execution_count": 26,
   "metadata": {},
   "outputs": [
    {
     "name": "stdout",
     "output_type": "stream",
     "text": [
      "[[\"Emergency Medical Care\", \"Network Care\", \"Out-Of-Network Care\"], [\"Urgent Care Provider\", \"Not covered\", \"Not applicable\"], [\"Emergency Room\", \"Not covered\", \"Not applicable\"], [\"Emergency Ambulance\", \"Not covered\", \"Not applicable\"], [\"Non-Emergency Ambulance\", \"Not covered\", \"Not applicable\"], [\"Other Services and Plan Details\", \"Network Care\", \"Out-Of-Network Care\"], [\"Hospital Care\", \"Not covered\", \"Not applicable\"], [\"Mental Health and Alcohol/Drug Abuse Services\", \"Not covered\", \"Not applicable\"], [\"Skilled Nursing Facility\", \"Not covered\", \"Not applicable\"], [\"Therapy and Rehabilitation Services\", \"Not covered\", \"Not applicable\"], [\"Durable Medical Equipment\", \"Not covered\", \"Not applicable\"], [\"Mouth, Jaws, and Teeth Oral surgery procedures, medical in nature\", \"Not covered\", \"Not applicable\"], [\"Family Planning\", \"Not covered\", \"Not applicable\"], [\"Pharmacy \\u2013 Prescription Drug and Discount Benefits Powered by Shield PBM\", \"Access & Discounts Available\", null], [\"Retail (Up to a 30-day supply)\", null, null], [\"Generic Drugs\", \"Co-pay starting at $5\", null], [\"Preferred Brand Drugs\", \"Co-pay starting at $50\", null], [\"Non-Preferred Brand Drugs\", \"Co-pay starting at $100\", null], [\"Specialty Drugs (Up to a 30-day supply)\\nIncludes self-injectable, infused and oral specialty drugs, excludes insulin\", \"International & prescription assistance options - call customer care\\nfor additional information\", null], [\"Mail Order Delivery (for your refills for up to a 31-90 day supply)\", null, null], [\"Generic Drugs\", \"Co-pay starting at $5\", null], [\"Preferred Brand Drugs\", \"Co-pay starting at $50\", null], [\"Non-Preferred Brand Drugs\", \"Co-pay starting at $100\", null], [\"While this information is believed to be accurate as of the print date, it is subject to change. To receive full and up to date policy descriptions, please visit\\nmy.breckpoint.com to log into our member portal.\", null, null], [\"**Utilization is the use of services by persons for the purpose of preventing and curing health problems, promoting maintenance of health and well-being, or\\nobtaining information about one\\u2019s health status and prognosis. Examples of Utilization are the number of office visits a person makes per year, the number of\\nprescription drugs taken, or the number of testing a person receives by a provider.\", null, null]]\n",
      "Pharmacy Plan includes: documents; nonmedically necessary services or supplies; orthotics; over-the-\n",
      "Contraceptive drugs and devices obtainable from a pharmacy. Formulary counter medications and supplies; reversal of sterilization; services for the\n",
      "generic FDA-approved women’s contraceptives covered 100% in network. treatment of sexual dysfunction or inadequacies, including therapy, supplies,\n",
      "Not all drugs are covered. or counseling; and special duty nursing. Weight control services including\n",
      "surgical procedures, medical treatments, weight control/loss programs, dietary\n",
      "What’s Not Covered regimens and supplements, appetite suppressants and other medications;\n",
      "This plan does not cover all health care expenses and includes exclusions and food or food supplements, exercise programs, exercise or other equipment;\n",
      "limitations. Members should refer to their plan documents to determine which and other services and supplies that are primarily intended to control weight or\n",
      "health care services are covered and to what extent. The following is a partial treat obesity, including morbid obesity, or for the purpose of weight reduction,\n",
      "list of services and supplies that are generally not covered. However, your plan regardless of the existence of comorbid conditions.\n",
      "documents may contain exceptions to this list based on state mandates or the\n",
      "plan design or rider(s) purchased by your employer. This material is for informational purposes only and is neither an offer of\n",
      "coverage nor medical advice. It contains only a partial, general description of\n",
      "All medical or hospital services not specifically covered in, or which are limited plan benefits or programs and does not constitute a contract. This material\n",
      "or excluded in the plan documents; Charges related to any eye surgery mainly does not provide health care services and, therefore, cannot guarantee results\n",
      "to correct refractive errors; cosmetic surgery, including breast reduction; or outcomes. Consult the plan documents to determine governing contractual\n",
      "custodial care; dental care and x-rays; donor egg retrieval; experimental provisions, including procedures, exclusions and limitations relating to the plan.\n",
      "and investigational procedures; hearing aids; immunizations for travel or They may also be subject to precertification or step-therapy. Non-prescription\n",
      "work; infertility services, including, but not limited to, artificial insemination drugs and drugs in the Limitations and Exclusions section of the plan documents\n",
      "and advanced reproductive technologies such as IVF, ZIFT, GIFT, ICSI and (received after open enrollment) are not covered, and medical exceptions are\n",
      "other related services, unless specifically listed as covered in your plan not available for them.\n"
     ]
    }
   ],
   "source": [
    "\n",
    "pdf_path='MEC.pdf'\n",
    "with pdfplumber.open(pdf_path) as pdf:\n",
    "    text_inSequence=[]\n",
    "    \n",
    "    for page in pdf.pages:\n",
    "        if(page.page_number!=4):\n",
    "            continue               \n",
    "        elements = page.extract_text_lines(x0=0, y0=0, x1=page.width, y1=page.height)        \n",
    "        tbls_location=page.find_tables()\n",
    "        tbls=page.extract_tables()\n",
    "                \n",
    "        table_added=0\n",
    "        is_table_added_1=False\n",
    "        is_table_added_2=False\n",
    "        is_table_added_3=False\n",
    "        for element in elements:\n",
    "            if len(tbls_location) == 0 or is_table_added_2 and is_table_added_1 and is_table_added_3:\n",
    "                text_inSequence.append(element['text'])\n",
    "                continue\n",
    "            is_inside_2=False\n",
    "            is_inside_3=False\n",
    "            \n",
    "            is_inside_1=is_text_inside_table(element, tbls_location[0].bbox)            \n",
    "            if not is_inside_1 and len(tbls_location) > 1:\n",
    "                is_inside_2=is_text_inside_table(element, tbls_location[1].bbox)            \n",
    "            if not is_inside_1 and not is_inside_2 and len(tbls_location) > 1:\n",
    "                is_inside_3=is_text_inside_table(element, tbls_location[3].bbox)\n",
    "            \n",
    "            if is_inside_1 and not is_table_added_1:\n",
    "                text_inSequence.append(json.dumps(tbls[0]))\n",
    "                is_table_added_1=True                \n",
    "            if is_inside_2 and not is_table_added_2:\n",
    "                text_inSequence.append(json.dumps(tbls[1]))\n",
    "                is_table_added_2=True\n",
    "            if is_inside_3 and not is_table_added_3:\n",
    "                text_inSequence.append(json.dumps(tbls[1]))\n",
    "                is_table_added_3=True\n",
    "                            \n",
    "            if not is_inside_1 and not is_inside_2 and not is_inside_2:\n",
    "                text_inSequence.append(element['text'])\n",
    "                \n",
    "    for text_table in text_inSequence:\n",
    "        print(text_table)"
   ]
  },
  {
   "cell_type": "code",
   "execution_count": 32,
   "metadata": {},
   "outputs": [],
   "source": [
    "pdf = pdfplumber.open(\"MEC.pdf\")"
   ]
  },
  {
   "cell_type": "code",
   "execution_count": 33,
   "metadata": {},
   "outputs": [],
   "source": [
    "p0 = pdf.pages[1]\n",
    "im = p0.to_image()"
   ]
  },
  {
   "cell_type": "code",
   "execution_count": 34,
   "metadata": {},
   "outputs": [
    {
     "data": {
      "image/png": "[encoded data removed]",
      "text/plain": [
       "<pdfplumber.display.PageImage at 0x16ce427f090>"
      ]
     },
     "execution_count": 34,
     "metadata": {},
     "output_type": "execute_result"
    }
   ],
   "source": [
    "im.debug_tablefinder()"
   ]
  }
 ],
 "metadata": {
  "kernelspec": {
   "display_name": "venv",
   "language": "python",
   "name": "python3"
  },
  "language_info": {
   "codemirror_mode": {
    "name": "ipython",
    "version": 3
   },
   "file_extension": ".py",
   "mimetype": "text/x-python",
   "name": "python",
   "nbconvert_exporter": "python",
   "pygments_lexer": "ipython3",
   "version": "3.11.1"
  }
 },
 "nbformat": 4,
 "nbformat_minor": 2
}
