{
 "cells": [
  {
   "cell_type": "code",
   "execution_count": 9,
   "metadata": {},
   "outputs": [],
   "source": [
    "import json\n",
    "import pdfplumber\n",
    "import pandas as pd\n"
   ]
  },
  {
   "cell_type": "code",
   "execution_count": 10,
   "metadata": {},
   "outputs": [],
   "source": [
    "def is_text_inside_table(normal_text_coords, table_text_coords):\n",
    "    # Define the bounding box for the normal text\n",
    "    normal_text_bbox = (normal_text_coords['x0'], normal_text_coords['top'],\n",
    "                        normal_text_coords['x1'], normal_text_coords['bottom'])\n",
    "\n",
    "    # Define the bounding box for the table text\n",
    "    table_text_bbox = (table_text_coords[0], table_text_coords[1],\n",
    "                       table_text_coords[2], table_text_coords[3])\n",
    "\n",
    "    is_inside = ( normal_text_bbox[2] > table_text_bbox[0] or\n",
    "                    normal_text_bbox[0] < table_text_bbox[2] or\n",
    "                    normal_text_bbox[3] > table_text_bbox[1] or\n",
    "                    normal_text_bbox[1] < table_text_bbox[3]          \n",
    "                    )\n",
    "    text_bbox_position_of_table = {'top': normal_text_bbox[3] < table_text_bbox[1],\n",
    "                                   'bottom': normal_text_bbox[1] > table_text_bbox[3],\n",
    "                                   'left': normal_text_bbox[2] < table_text_bbox[0],\n",
    "                                   'right': normal_text_bbox[0] > table_text_bbox[2]}\n",
    " \n",
    "    return normal_text_bbox[1] < table_text_bbox[3] and normal_text_bbox[1] > table_text_bbox[1]"
   ]
  },
  {
   "cell_type": "code",
   "execution_count": 26,
   "metadata": {},
   "outputs": [    
   ],
   "source": [
    "\n",
    "pdf_path='6.pdf'\n",
    "with pdfplumber.open(pdf_path) as pdf:\n",
    "    text_inSequence=[]\n",
    "    \n",
    "    for page in pdf.pages:\n",
    "        if(page.page_number!=4):\n",
    "            continue               \n",
    "        elements = page.extract_text_lines(x0=0, y0=0, x1=page.width, y1=page.height)        \n",
    "        tbls_location=page.find_tables()\n",
    "        tbls=page.extract_tables()\n",
    "                \n",
    "        table_added=0\n",
    "        is_table_added_1=False\n",
    "        is_table_added_2=False\n",
    "        is_table_added_3=False\n",
    "        for element in elements:\n",
    "            if len(tbls_location) == 0 or is_table_added_2 and is_table_added_1 and is_table_added_3:\n",
    "                text_inSequence.append(element['text'])\n",
    "                continue\n",
    "            is_inside_2=False\n",
    "            is_inside_3=False\n",
    "            \n",
    "            is_inside_1=is_text_inside_table(element, tbls_location[0].bbox)            \n",
    "            if not is_inside_1 and len(tbls_location) > 1:\n",
    "                is_inside_2=is_text_inside_table(element, tbls_location[1].bbox)            \n",
    "            if not is_inside_1 and not is_inside_2 and len(tbls_location) > 1:\n",
    "                is_inside_3=is_text_inside_table(element, tbls_location[3].bbox)\n",
    "            \n",
    "            if is_inside_1 and not is_table_added_1:\n",
    "                text_inSequence.append(json.dumps(tbls[0]))\n",
    "                is_table_added_1=True                \n",
    "            if is_inside_2 and not is_table_added_2:\n",
    "                text_inSequence.append(json.dumps(tbls[1]))\n",
    "                is_table_added_2=True\n",
    "            if is_inside_3 and not is_table_added_3:\n",
    "                text_inSequence.append(json.dumps(tbls[1]))\n",
    "                is_table_added_3=True\n",
    "                            \n",
    "            if not is_inside_1 and not is_inside_2 and not is_inside_2:\n",
    "                text_inSequence.append(element['text'])\n",
    "                \n",
    "    for text_table in text_inSequence:\n",
    "        print(text_table)"
   ]
  },
  {
   "cell_type": "code",
   "execution_count": 32,
   "metadata": {},
   "outputs": [],
   "source": [
    "pdf = pdfplumber.open(\"MEC.pdf\")"
   ]
  },
  {
   "cell_type": "code",
   "execution_count": 33,
   "metadata": {},
   "outputs": [],
   "source": [
    "p0 = pdf.pages[1]\n",
    "im = p0.to_image()"
   ]
  },
  {
   "cell_type": "code",
   "execution_count": 34,
   "metadata": {},
   "outputs": [    
   ],
   "source": [
    "im.debug_tablefinder()"
   ]
  }
 ],
 "metadata": {
  "kernelspec": {
   "display_name": "venv",
   "language": "python",
   "name": "python3"
  },
  "language_info": {
   "codemirror_mode": {
    "name": "ipython",
    "version": 3
   },
   "file_extension": ".py",
   "mimetype": "text/x-python",
   "name": "python",
   "nbconvert_exporter": "python",
   "pygments_lexer": "ipython3",
   "version": "3.11.1"
  }
 },
 "nbformat": 4,
 "nbformat_minor": 2
}
