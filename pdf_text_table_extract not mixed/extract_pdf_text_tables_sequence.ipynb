{
 "cells": [
  {
   "cell_type": "markdown",
   "metadata": {},
   "source": [
    "Extract text and table from pdf file in sequence as on pdf page line by line\n",
    "Using pdfplumber. "
   ]
  },
  {
   "cell_type": "code",
   "execution_count": 15,
   "metadata": {},
   "outputs": [],
   "source": [
    "import json\n",
    "import pdfplumber\n",
    "import pandas as pd "
   ]
  },
  {
   "cell_type": "code",
   "execution_count": 16,
   "metadata": {},
   "outputs": [
    {
     "name": "stdout",
     "output_type": "stream",
     "text": [
      "0.11.0\n"
     ]
    }
   ],
   "source": [
    "print(pdfplumber.__version__)"
   ]
  },
  {
   "cell_type": "code",
   "execution_count": 17,
   "metadata": {},
   "outputs": [],
   "source": [
    "pdf = pdfplumber.open(\"15.pdf\")\n",
    "p0 = pdf.pages[0]\n",
    "im = p0.to_image()"
   ]
  },
  {
   "cell_type": "code",
   "execution_count": 18,
   "metadata": {},
   "outputs": [
    {
     "data": {
      "image/png": "[encoded data removed]",
      "text/plain": [
       "<pdfplumber.display.PageImage at 0x241cea4bfd0>"
      ]
     },
     "execution_count": 18,
     "metadata": {},
     "output_type": "execute_result"
    }
   ],
   "source": [
    "im.debug_tablefinder()"
   ]
  },
  {
   "cell_type": "code",
   "execution_count": 19,
   "metadata": {},
   "outputs": [],
   "source": [
    "images=p0.images\n",
    "for image_index, image in enumerate(images):\n",
    "    print(image)\n",
    "    x0, y0, x1, y1 = image[\"x0\"], image[\"y0\"],(image[\"x0\"]+ image[\"height\"]),(image[\"y0\"]+ image[\"width\"])\n",
    "    cropped_image = p0.crop((x0, y0, x1, y1)).to_image()\n"
   ]
  },
  {
   "cell_type": "code",
   "execution_count": 20,
   "metadata": {},
   "outputs": [],
   "source": [
    "def is_text_inside_table(normal_text_coords, table_text_coords):\n",
    "    # Define the bounding box for the normal text\n",
    "    normal_text_bbox = (normal_text_coords['x0'], normal_text_coords['top'],\n",
    "                        normal_text_coords['x1'], normal_text_coords['bottom'])\n",
    "\n",
    "    # Define the bounding box for the table text\n",
    "    table_text_bbox = (table_text_coords[0], table_text_coords[1],\n",
    "                       table_text_coords[2], table_text_coords[3])\n",
    " \n",
    "    return normal_text_bbox[1] < table_text_bbox[3] and normal_text_bbox[1] > table_text_bbox[1] and normal_text_bbox[0] < table_text_bbox[2]"
   ]
  },
  {
   "cell_type": "code",
   "execution_count": 21,
   "metadata": {},
   "outputs": [
    {
     "name": "stdout",
     "output_type": "stream",
     "text": [
      "3\n",
      "True False False False\n",
      "Step #1:\n",
      "Determine Your Current Financial Situation\n",
      "Before you can begin setting goals and developing strategies to achieve them, it is important to\n",
      "understand where you are now. The first step in creating your personal financial plan is determining\n",
      "your current financial situation. Having a thorough understanding of your current financial situation\n",
      "will help you to formulate realistic and well-informed goals. Taking a detailed look at your situation may\n",
      "also help you identify specific changes you could make to change your situation and help you achieve\n",
      "the goals you will create later in the planning process.\n",
      "To gain insight into your current situation, it can be helpful to determine your current net worth. To\n",
      "calculate your net worth, you will need to total your current liabilities and subtract them from your total\n",
      "current assets. Assets are simply what you own that has value. These include: cash and cash\n",
      "equivalents, such as physical cash on hand, checking accounts, or savings accounts; personal property,\n",
      "such as equity in a home, other real estate owned, or a car; and invested assets, such as stocks, bonds,\n",
      "or pensions. Liabilities include value of what you owe including current bills and outstanding debt.\n",
      "Utilizing the charts below, calculate your current net worth.\n",
      "[[\"Assets (What I Own)\", null], [\"Cash & Cash Equivalents\", null], [\"Cash on Hand\", \"\"], [\"Checking Account\", \"\"], [\"Savings Account\", \"\"], [\"CDs\", \"\"], [\"Life Insurance Value\", \"\"], [\"Savings Bonds\", \"\"], [\"Money owed to me\", \"\"], [\"Total Cash Equivalents\", \"\"], [\"Personal Property\", null], [\"Estimate Equity in Home\", \"\"], [\"Other Real Estate\", \"\"], [\"Household Furnishings\", \"\"], [\"Specific Items of Value\", \"\"], [\"Automobiles\", \"\"], [\"Other Personal Property\", \"\"], [\"Total Real & Personal Property\", \"\"], [\"Invested Assets\", null], [\"Stocks & Mutual Funds\", \"\"], [\"Bonds\", \"\"], [\"Government Securities\", \"\"], [\"IRAs\", \"\"], [\"Pensions\", \"\"], [\"401(k)s and similar plans\", \"\"], [\"Total Invested Assets\", \"\"], [\"Total of All Assets\", \"\"]]\n",
      "[[\"Liabilities (What I Owe)\", null], [\"Current Bills\", null], [\"Charge Accounts\", \"\"], [\"Credit Card Balances\", \"\"], [\"Utilities\", \"\"], [\"Rent\", \"\"], [\"Insurance Premiums\", \"\"], [\"Taxes\", \"\"], [\"Other Bills\", \"\"], [\"Total Current Bills\", \"\"], [\"Outstanding Debt\", null], [\"Home Mortgage balance\", \"\"], [\"Other Mortgages\", \"\"], [\"Automobile Loan balance\", \"\"], [\"Student Loan Balance\", \"\"], [\"All Other Loan Balances\", \"\"], [\"Total Outstanding Debt\", \"\"], [\"Total of All Liabilities\", \"\"]]\n",
      "Total Assets\n",
      "Total Liabilities\n",
      "Net Worth\n"
     ]
    }
   ],
   "source": [
    "\n",
    "pdf_path='15.pdf'\n",
    "pdf = pdfplumber.open(pdf_path)\n",
    "text_inSequence=[]\n",
    "\n",
    "for page in pdf.pages:\n",
    "    # if(page.page_number!=4):\n",
    "    #     continue\n",
    "    elements = page.extract_text_lines(x0=0, y0=0, x1=page.width, y1=page.height)\n",
    "    tbls_location=page.find_tables()\n",
    "    tbls=page.extract_tables()\n",
    "    print(len(tbls_location))\n",
    "    \n",
    "    table_added=0\n",
    "    is_table_added_1=False\n",
    "    is_table_added_2=False\n",
    "    is_table_added_3=False\n",
    "    is_table_added_4=False\n",
    "    for element in elements:\n",
    "        if len(tbls_location) == 0:\n",
    "            text_inSequence.append(element['text'])\n",
    "            #print('all tables added')\n",
    "            print(len(tbls_location) == 0) \n",
    "            print(is_table_added_2 and is_table_added_1 and is_table_added_3 and is_table_added_4)\n",
    "            continue\n",
    "        is_inside_2=False\n",
    "        is_inside_3=False\n",
    "        is_inside_4=False\n",
    "\n",
    "        is_inside_1=is_text_inside_table(element, tbls_location[0].bbox)\n",
    "        if not is_inside_1 and len(tbls_location) > 1:\n",
    "            is_inside_2=is_text_inside_table(element, tbls_location[1].bbox)\n",
    "        if not is_inside_1 and not is_inside_2 and len(tbls_location) > 2:\n",
    "            is_inside_3=is_text_inside_table(element, tbls_location[2].bbox)\n",
    "        if not is_inside_1 and not is_inside_2 and not is_inside_3 and len(tbls_location) > 3:\n",
    "            is_inside_4=is_text_inside_table(element, tbls_location[3].bbox)\n",
    "\n",
    "        if is_inside_1 and not is_table_added_1:\n",
    "            text_inSequence.append(json.dumps(tbls[0]))\n",
    "            is_table_added_1=True\n",
    "            continue\n",
    "        if is_inside_2 and not is_table_added_2:\n",
    "            text_inSequence.append(json.dumps(tbls[1]))\n",
    "            is_table_added_2=True\n",
    "            continue\n",
    "        if is_inside_3 and not is_table_added_3:\n",
    "            text_inSequence.append(json.dumps(tbls[2]))\n",
    "            is_table_added_3=True\n",
    "            continue\n",
    "        if is_inside_4 and not is_table_added_4:\n",
    "            text_inSequence.append(json.dumps(tbls[3]))\n",
    "            is_table_added_4=True\n",
    "            continue\n",
    "        text_add_Or_not=(not is_inside_1 and not is_inside_2 and not is_inside_3 and not is_inside_3) or (is_table_added_1 and is_table_added_2 and is_table_added_3 and is_table_added_4)        \n",
    "        if  text_add_Or_not:\n",
    "            text_inSequence.append(element['text'])\n",
    "    print(is_inside_1,is_inside_2,is_inside_3,is_table_added_4)\n",
    "    for text_table in text_inSequence:\n",
    "        print(text_table)"
   ]
  }
 ],
 "metadata": {
  "kernelspec": {
   "display_name": "venv",
   "language": "python",
   "name": "python3"
  },
  "language_info": {
   "codemirror_mode": {
    "name": "ipython",
    "version": 3
   },
   "file_extension": ".py",
   "mimetype": "text/x-python",
   "name": "python",
   "nbconvert_exporter": "python",
   "pygments_lexer": "ipython3",
   "version": "3.10.2"
  }
 },
 "nbformat": 4,
 "nbformat_minor": 2
}
